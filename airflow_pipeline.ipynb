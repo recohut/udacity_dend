{
 "cells": [
  {
   "cell_type": "markdown",
   "metadata": {},
   "source": [
    "```\n",
    "Data Pipeline with Apache Airflow\n",
    "|\n",
    "|____dags\n",
    "| |____ create_tables_dag.py   # DAG for creating tables on Redshift\n",
    "| |____ create_tables.sql      # SQL CREATE queries\n",
    "| |____ udac_example_dag.py    # Main DAG for this ETL data pipeline\n",
    "|\n",
    "|____plugins\n",
    "| |____ __init__.py\n",
    "| |\n",
    "| |____operators\n",
    "| | |____ __init__.py          # Define operators and helpers\n",
    "| | |____ stage_redshift.py    # COPY data from S3 to Redshift\n",
    "| | |____ load_fact.py         # Execute INSERT query into fact table\n",
    "| | |____ load_dimension.py    # Execute INSERT queries into dimension tables\n",
    "| | |____ data_quality.py      # Data quality check after pipeline execution\n",
    "| |\n",
    "| |____helpers\n",
    "| | |____ __init__.py\n",
    "| | |____ sql_queries.py       # SQL queries for building up dimensional tables\n",
    "```"
   ]
  },
  {
   "cell_type": "markdown",
   "metadata": {},
   "source": [
    "### Operators\n",
    "\n",
    "1. `Begin_execution` & `End_execution`\n",
    "\n",
    "    Dummy operators at data pipeline end points\n",
    "\n",
    "2. `Stage_events` & `Stage_songs`\n",
    "\n",
    "    Extract/Transform data from S3 to Redshift to create staging tables\n",
    "\n",
    "3. `Load_songplays_fact_table` & `Load_*_dim_table`\n",
    "    \n",
    "    Load data from staging tables to dimensional tables\n",
    "\n",
    "4. `data_quality.py` \n",
    "    \n",
    "    Check no empty table after data loading. More tests can be added into this operator to ensure data quality\n"
   ]
  },
  {
   "cell_type": "markdown",
   "metadata": {},
   "source": [
    "### DAG\n",
    "\n",
    "![](./img/airflow_dag.png)"
   ]
  },
  {
   "cell_type": "code",
   "execution_count": 20,
   "metadata": {},
   "outputs": [
    {
     "name": "stdout",
     "output_type": "stream",
     "text": [
      "upload: dags/udac_example_dag.py to s3://udacity-dend-redshift/airflow/dags/udac_example_dag.py\n"
     ]
    }
   ],
   "source": [
    "!aws s3 sync dags s3://udacity-dend-redshift/airflow/dags"
   ]
  },
  {
   "cell_type": "code",
   "execution_count": 21,
   "metadata": {},
   "outputs": [
    {
     "name": "stdout",
     "output_type": "stream",
     "text": [
      "upload: ./plugins.zip to s3://udacity-dend-redshift/airflow/plugins.zip\n"
     ]
    }
   ],
   "source": [
    "!aws s3 cp ./plugins.zip s3://udacity-dend-redshift/airflow/"
   ]
  },
  {
   "cell_type": "code",
   "execution_count": null,
   "metadata": {},
   "outputs": [],
   "source": []
  }
 ],
 "metadata": {
  "kernelspec": {
   "display_name": "Python 3.9.7 ('env-spacy')",
   "language": "python",
   "name": "python3"
  },
  "language_info": {
   "codemirror_mode": {
    "name": "ipython",
    "version": 3
   },
   "file_extension": ".py",
   "mimetype": "text/x-python",
   "name": "python",
   "nbconvert_exporter": "python",
   "pygments_lexer": "ipython3",
   "version": "3.9.7"
  },
  "orig_nbformat": 4,
  "vscode": {
   "interpreter": {
    "hash": "343191058819caea96d5cde1bd3b1a75b4807623ce2cda0e1c8499e39ac847e3"
   }
  }
 },
 "nbformat": 4,
 "nbformat_minor": 2
}
