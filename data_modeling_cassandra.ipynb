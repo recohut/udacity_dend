{
  "cells": [
    {
      "cell_type": "markdown",
      "source": [
        "## Setup Infra"
      ],
      "metadata": {
        "id": "KjtCs4Ct6psx"
      }
    },
    {
      "cell_type": "code",
      "execution_count": null,
      "metadata": {
        "id": "M-pejFsK56kS",
        "outputId": "50e4d1d4-4bdd-480b-e96d-6480280da190"
      },
      "outputs": [
        {
          "name": "stdout",
          "output_type": "stream",
          "text": [
            "ecs-cli version 1.21.0 (bb0b8f0)\n"
          ]
        }
      ],
      "source": [
        "!ecs-cli --version"
      ]
    },
    {
      "cell_type": "code",
      "execution_count": null,
      "metadata": {
        "id": "5ZA7_8-c56ki",
        "outputId": "06e29713-7a24-4d3c-e2d1-59924fbfc191"
      },
      "outputs": [
        {
          "name": "stdout",
          "output_type": "stream",
          "text": [
            "\u001b[36mINFO\u001b[0m[0000] Saved ECS CLI cluster configuration default. \n"
          ]
        }
      ],
      "source": [
        "# configure ECS\n",
        "!ecs-cli configure \\\n",
        " --cluster udacity-dend-cluster2 \\\n",
        " --default-launch-type FARGATE \\\n",
        " --region us-east-1"
      ]
    },
    {
      "cell_type": "code",
      "execution_count": null,
      "metadata": {
        "id": "DxsLdyMb56kj",
        "outputId": "f2ef03a1-15b9-49fd-920e-3c2e5e2f814b"
      },
      "outputs": [
        {
          "name": "stdout",
          "output_type": "stream",
          "text": [
            "\u001b[33mWARN\u001b[0m[0004] Enabling container instance tagging because containerInstanceLongArnFormat is enabled for your identity, arn:aws:iam::390354360073:root. If this is not your account default setting, your instances will fail to join your cluster. You can use the PutAccountSettingDefault API to change your account default. \n",
            "\u001b[36mINFO\u001b[0m[0004] Created cluster                               \u001b[36mcluster\u001b[0m=udacity-dend-cluster2 \u001b[36mregion\u001b[0m=us-east-1\n",
            "\u001b[36mINFO\u001b[0m[0008] Waiting for your cluster resources to be created... \n",
            "\u001b[36mINFO\u001b[0m[0009] Cloudformation stack status                   \u001b[36mstackStatus\u001b[0m=CREATE_IN_PROGRESS\n",
            "\u001b[36mINFO\u001b[0m[0072] Cloudformation stack status                   \u001b[36mstackStatus\u001b[0m=CREATE_IN_PROGRESS\n",
            "VPC created: vpc-03d8f2846f18b0e1a\n",
            "Subnet created: subnet-0de67148a6f9bd082\n",
            "Subnet created: subnet-0ee85c4a81eb26dee\n",
            "Cluster creation succeeded.\n"
          ]
        }
      ],
      "source": [
        "!ecs-cli up \\\n",
        "--keypair udacity-dend-cluster \\\n",
        "--capability-iam \\\n",
        "--tags project=udacity-dend-cluster2,owner=sparsh"
      ]
    },
    {
      "cell_type": "code",
      "execution_count": null,
      "metadata": {
        "id": "Z4843GwA56kk",
        "outputId": "453002fc-4f91-4157-926a-2ffa112fa8b0"
      },
      "outputs": [
        {
          "name": "stdout",
          "output_type": "stream",
          "text": [
            "{\n",
            "    \"Return\": true,\n",
            "    \"SecurityGroupRules\": [\n",
            "        {\n",
            "            \"SecurityGroupRuleId\": \"sgr-0508577cb730682f9\",\n",
            "            \"GroupId\": \"sg-0afb868cb6df80e99\",\n",
            "            \"GroupOwnerId\": \"390354360073\",\n",
            "            \"IsEgress\": false,\n",
            "            \"IpProtocol\": \"tcp\",\n",
            "            \"FromPort\": 9042,\n",
            "            \"ToPort\": 9042,\n",
            "            \"CidrIpv4\": \"0.0.0.0/0\"\n",
            "        }\n",
            "    ]\n",
            "}\n"
          ]
        }
      ],
      "source": [
        "!aws ec2 authorize-security-group-ingress \\\n",
        "        --group-id sg-0afb868cb6df80e99 \\\n",
        "        --protocol tcp \\\n",
        "        --port 9042 \\\n",
        "        --cidr 0.0.0.0/0"
      ]
    },
    {
      "cell_type": "code",
      "execution_count": null,
      "metadata": {
        "id": "K0VkNktW56kl",
        "outputId": "eef292f9-5e87-43bf-a4a2-5fe9876f1976"
      },
      "outputs": [
        {
          "name": "stdout",
          "output_type": "stream",
          "text": [
            "Overwriting ecs-params.yml\n"
          ]
        }
      ],
      "source": [
        "%%writefile ecs-params.yml\n",
        "version: 1\n",
        "task_definition:\n",
        "  ecs_network_mode: awsvpc\n",
        "  task_execution_role: ecsTaskExecutionRole\n",
        "  task_size:\n",
        "    cpu_limit: 2048\n",
        "    mem_limit: 8GB\n",
        "  services:\n",
        "    cassandra:\n",
        "      essential: true\n",
        "run_params:\n",
        "  network_configuration:\n",
        "    awsvpc_configuration:\n",
        "      subnets:\n",
        "        - subnet-0de67148a6f9bd082\n",
        "        - subnet-0ee85c4a81eb26dee\n",
        "      assign_public_ip: ENABLED"
      ]
    },
    {
      "cell_type": "code",
      "execution_count": null,
      "metadata": {
        "id": "f6gjFZqg56kl",
        "outputId": "86851e79-5ecf-48b4-f3c5-ced4cf37b458"
      },
      "outputs": [
        {
          "name": "stdout",
          "output_type": "stream",
          "text": [
            "\u001b[37mDEBU\u001b[0m[0000] Parsing the compose yaml...                  \n",
            "\u001b[37mDEBU\u001b[0m[0000] Docker Compose version found: 3              \n",
            "\u001b[37mDEBU\u001b[0m[0000] Parsing v3 project...                        \n",
            "\u001b[37mDEBU\u001b[0m[0000] Parsing the ecs-params yaml...               \n",
            "\u001b[37mDEBU\u001b[0m[0000] Parsing the ecs-registry-creds yaml...       \n",
            "\u001b[37mDEBU\u001b[0m[0000] Transforming yaml to task definition...      \n",
            "\u001b[37mDEBU\u001b[0m[0002] Finding task definition in cache or creating if needed  \u001b[37mTaskDefinition\u001b[0m=\"{\\n  ContainerDefinitions: [{\\n      Command: [],\\n      Cpu: 0,\\n      DnsSearchDomains: [],\\n      DnsServers: [],\\n      DockerSecurityOptions: [],\\n      EntryPoint: [],\\n      Environment: [],\\n      Essential: true,\\n      ExtraHosts: [],\\n      Image: \\\"cassandra:latest\\\",\\n      Links: [],\\n      LinuxParameters: {\\n        Capabilities: {\\n\\n        },\\n        Devices: []\\n      },\\n      MountPoints: [{\\n          ContainerPath: \\\"/var/lib/cassandra\\\",\\n          ReadOnly: false,\\n          SourceVolume: \\\"cassandra_volumne\\\"\\n        }],\\n      Name: \\\"cassandra\\\",\\n      PortMappings: [{\\n          ContainerPort: 9042,\\n          HostPort: 9042,\\n          Protocol: \\\"tcp\\\"\\n        }],\\n      Privileged: false,\\n      PseudoTerminal: false,\\n      ReadonlyRootFilesystem: false\\n    }],\\n  Cpu: \\\"2048\\\",\\n  ExecutionRoleArn: \\\"ecsTaskExecutionRole\\\",\\n  Family: \\\"udacity-dend-cluster-cassandra\\\",\\n  Memory: \\\"8GB\\\",\\n  NetworkMode: \\\"awsvpc\\\",\\n  RequiresCompatibilities: [\\\"FARGATE\\\"],\\n  TaskRoleArn: \\\"\\\",\\n  Volumes: [{\\n      Name: \\\"cassandra_volumne\\\"\\n    }]\\n}\"\n",
            "\u001b[37mDEBU\u001b[0m[0002] cache hit                                     \u001b[37mtaskDef\u001b[0m=\"{\\n  Compatibilities: [\\\"EC2\\\",\\\"FARGATE\\\"],\\n  ContainerDefinitions: [{\\n      Essential: true,\\n      Image: \\\"cassandra:latest\\\",\\n      LinuxParameters: {\\n        Capabilities: {\\n\\n        }\\n      },\\n      MountPoints: [{\\n          ContainerPath: \\\"/var/lib/cassandra\\\",\\n          SourceVolume: \\\"cassandra_volumne\\\"\\n        }],\\n      Name: \\\"cassandra\\\",\\n      PortMappings: [{\\n          ContainerPort: 9042,\\n          HostPort: 9042,\\n          Protocol: \\\"tcp\\\"\\n        }]\\n    }],\\n  Cpu: \\\"2048\\\",\\n  ExecutionRoleArn: \\\"arn:aws:iam::390354360073:role/ecsTaskExecutionRole\\\",\\n  Family: \\\"udacity-dend-cluster-cassandra\\\",\\n  Memory: \\\"8192\\\",\\n  NetworkMode: \\\"awsvpc\\\",\\n  RequiresAttributes: [{\\n      Name: \\\"com.amazonaws.ecs.capability.docker-remote-api.1.17\\\"\\n    },{\\n      Name: \\\"com.amazonaws.ecs.capability.docker-remote-api.1.18\\\"\\n    },{\\n      Name: \\\"ecs.capability.task-eni\\\"\\n    }],\\n  RequiresCompatibilities: [\\\"FARGATE\\\"],\\n  Revision: 2,\\n  Status: \\\"ACTIVE\\\",\\n  TaskDefinitionArn: \\\"arn:aws:ecs:us-east-1:390354360073:task-definition/udacity-dend-cluster-cassandra:2\\\",\\n  Volumes: [{\\n      Host: {\\n\\n      },\\n      Name: \\\"cassandra_volumne\\\"\\n    }]\\n}\" \u001b[37mtaskDefHash\u001b[0m=09d321222dfbdb4fd422ecfaefc5d3ca\n",
            "\u001b[36mINFO\u001b[0m[0002] Using ECS task definition                     \u001b[36mTaskDefinition\u001b[0m=\"udacity-dend-cluster-cassandra:2\"\n",
            "\u001b[36mINFO\u001b[0m[0003] Auto-enabling ECS Managed Tags               \n",
            "\u001b[36mINFO\u001b[0m[0015] (service udacity-dend-cluster-cassandra) has started 1 tasks: (task bde5dbcaf140410f976cb53dfe0a76f0).  \u001b[36mtimestamp\u001b[0m=\"2022-06-16 21:44:35 +0000 UTC\"\n",
            "\u001b[36mINFO\u001b[0m[0042] Service status                                \u001b[36mdesiredCount\u001b[0m=1 \u001b[36mrunningCount\u001b[0m=1 \u001b[36mserviceName\u001b[0m=udacity-dend-cluster-cassandra\n",
            "\u001b[36mINFO\u001b[0m[0042] (service udacity-dend-cluster-cassandra) has reached a steady state.  \u001b[36mtimestamp\u001b[0m=\"2022-06-16 21:45:01 +0000 UTC\"\n",
            "\u001b[36mINFO\u001b[0m[0042] (service udacity-dend-cluster-cassandra) (deployment ecs-svc/8424145162550058817) deployment completed.  \u001b[36mtimestamp\u001b[0m=\"2022-06-16 21:45:01 +0000 UTC\"\n",
            "\u001b[36mINFO\u001b[0m[0042] ECS Service has reached a stable state        \u001b[36mdesiredCount\u001b[0m=1 \u001b[36mrunningCount\u001b[0m=1 \u001b[36mserviceName\u001b[0m=udacity-dend-cluster-cassandra\n",
            "\u001b[36mINFO\u001b[0m[0042] Created an ECS service                        \u001b[36mdeployment-max-percent\u001b[0m=100 \u001b[36mdeployment-min-healthy-percent\u001b[0m=0 \u001b[36mservice\u001b[0m=udacity-dend-cluster-cassandra \u001b[36mtaskDefinition\u001b[0m=\"udacity-dend-cluster-cassandra:2\"\n"
          ]
        }
      ],
      "source": [
        "!ecs-cli compose \\\n",
        "--project-name udacity-dend-cluster-cassandra \\\n",
        "--file cassandra-docker-compose.yml \\\n",
        "--debug service up  \\\n",
        "--deployment-max-percent 100 \\\n",
        "--deployment-min-healthy-percent 0"
      ]
    },
    {
      "cell_type": "code",
      "execution_count": null,
      "metadata": {
        "id": "3s08jKke56km",
        "outputId": "110d36b0-56ab-408d-d29d-15d60e7a3014"
      },
      "outputs": [
        {
          "name": "stdout",
          "output_type": "stream",
          "text": [
            "Name                                                              State    Ports                          TaskDefinition                    Health\n",
            "udacity-dend-cluster2/bde5dbcaf140410f976cb53dfe0a76f0/cassandra  RUNNING  18.215.248.188:9042->9042/tcp  udacity-dend-cluster-cassandra:2  UNKNOWN\n"
          ]
        }
      ],
      "source": [
        "!ecs-cli ps"
      ]
    },
    {
      "cell_type": "markdown",
      "source": [
        "## Data Modeling"
      ],
      "metadata": {
        "id": "94U8v8vQ6twi"
      }
    },
    {
      "cell_type": "code",
      "execution_count": null,
      "metadata": {
        "id": "RIvgD5h_56ko"
      },
      "outputs": [],
      "source": [
        "import pandas as pd\n",
        "import cassandra\n",
        "import re\n",
        "import os\n",
        "import glob\n",
        "import numpy as np\n",
        "import json\n",
        "import csv"
      ]
    },
    {
      "cell_type": "markdown",
      "metadata": {
        "id": "Lema_uP_56kp"
      },
      "source": [
        "Creating list of filepaths to process original event csv data files"
      ]
    },
    {
      "cell_type": "code",
      "execution_count": null,
      "metadata": {
        "id": "KXzFxifG56kr"
      },
      "outputs": [],
      "source": [
        "filepath = './event_data'\n",
        "for root, dirs, files in os.walk(filepath):\n",
        "    file_path_list = glob.glob(os.path.join(root,'*'))"
      ]
    },
    {
      "cell_type": "markdown",
      "metadata": {
        "id": "uzbAdReH56ks"
      },
      "source": [
        "Processing the files to create the data file csv that will be used for Apache Casssandra tables"
      ]
    },
    {
      "cell_type": "code",
      "execution_count": null,
      "metadata": {
        "id": "obb4ydJF56ks"
      },
      "outputs": [],
      "source": [
        "# initiating an empty list of rows that will be generated from each file\n",
        "full_data_rows_list = [] \n",
        "    \n",
        "# for every filepath in the file path list \n",
        "for f in file_path_list:\n",
        "\n",
        "# reading csv file \n",
        "    with open(f, 'r', encoding = 'utf8', newline='') as csvfile: \n",
        "        # creating a csv reader object \n",
        "        csvreader = csv.reader(csvfile) \n",
        "        next(csvreader)\n",
        "        \n",
        " # extracting each data row one by one and append it        \n",
        "        for line in csvreader:\n",
        "            #print(line)\n",
        "            full_data_rows_list.append(line) \n",
        "            \n",
        "# uncomment the code below if you would like to get total number of rows \n",
        "#print(len(full_data_rows_list))\n",
        "\n",
        "# uncomment the code below if you would like to check to see what the list of event data rows will look like\n",
        "#print(full_data_rows_list)\n",
        "\n",
        "# creating a smaller event data csv file called event_datafile_full csv that will be used to insert data into the \\\n",
        "# Apache Cassandra tables\n",
        "csv.register_dialect('myDialect', quoting=csv.QUOTE_ALL, skipinitialspace=True)\n",
        "\n",
        "with open('event_datafile_new.csv', 'w', encoding = 'utf8', newline='') as f:\n",
        "    writer = csv.writer(f, dialect='myDialect')\n",
        "    writer.writerow(['artist','firstName','gender','itemInSession','lastName','length',\\\n",
        "                'level','location','sessionId','song','userId'])\n",
        "    for row in full_data_rows_list:\n",
        "        if (row[0] == ''):\n",
        "            continue\n",
        "        writer.writerow((row[0], row[2], row[3], row[4], row[5], row[6], row[7], row[8], row[12], row[13], row[16]))"
      ]
    },
    {
      "cell_type": "code",
      "execution_count": null,
      "metadata": {
        "id": "qWXtNqTu56kt",
        "outputId": "9d565bd5-dc4b-43ef-fe84-14defa2d4d91"
      },
      "outputs": [
        {
          "name": "stdout",
          "output_type": "stream",
          "text": [
            "6821\n"
          ]
        }
      ],
      "source": [
        "# check the number of rows in your csv file\n",
        "with open('event_datafile_new.csv', 'r', encoding = 'utf8') as f:\n",
        "    print(sum(1 for line in f))"
      ]
    },
    {
      "cell_type": "markdown",
      "metadata": {
        "id": "v84bk9aF56ku"
      },
      "source": [
        "Creating a Cluster"
      ]
    },
    {
      "cell_type": "code",
      "execution_count": null,
      "metadata": {
        "id": "858S3Bay56kv"
      },
      "outputs": [],
      "source": [
        "from cassandra.cluster import Cluster"
      ]
    },
    {
      "cell_type": "code",
      "execution_count": null,
      "metadata": {
        "id": "vElNB1IL56kv"
      },
      "outputs": [],
      "source": [
        "cluster = Cluster(['18.215.248.188'],port=9042)\n",
        "\n",
        "# To establish connection and begin executing queries, need a session\n",
        "session = cluster.connect()"
      ]
    },
    {
      "cell_type": "code",
      "execution_count": null,
      "metadata": {
        "id": "xQFxBOtD56kw"
      },
      "outputs": [],
      "source": [
        "try:\n",
        "    session.execute(\"\"\"\n",
        "        CREATE KEYSPACE IF NOT EXISTS sparkify\n",
        "        WITH REPLICATION =\n",
        "        { 'class': 'SimpleStrategy', 'replication_factor': 1 }\n",
        "    \"\"\")\n",
        "except Exception as error:\n",
        "    print(error)"
      ]
    },
    {
      "cell_type": "code",
      "execution_count": null,
      "metadata": {
        "id": "YfLOY6av56kx"
      },
      "outputs": [],
      "source": [
        "try:\n",
        "    session.set_keyspace('sparkify')\n",
        "except Exception as error:\n",
        "    print(error)"
      ]
    },
    {
      "cell_type": "markdown",
      "metadata": {
        "id": "2mfZ3jz956kx"
      },
      "source": [
        "Now we need to create tables to run the following queries. Remember, with Apache Cassandra you model the database tables on the queries you want to run."
      ]
    },
    {
      "cell_type": "markdown",
      "metadata": {
        "id": "FYxYssSY56ky"
      },
      "source": [
        "Create queries to ask the following three questions of the data\n",
        "1. Give me the artist, song title and song's length in the music app history that was heard during sessionId = 338, and itemInSession = 4\n",
        "2. Give me only the following: name of artist, song (sorted by itemInSession) and user (first and last name) for userid = 10, sessionid = 182\n",
        "3. Give me every user name (first and last) in my music app history who listened to the song 'All Hands Against His Own'"
      ]
    },
    {
      "cell_type": "code",
      "execution_count": null,
      "metadata": {
        "id": "0EHoTW5z56kz"
      },
      "outputs": [],
      "source": [
        "try:\n",
        "    session.execute(\"\"\"\n",
        "        CREATE TABLE IF NOT EXISTs songs (\n",
        "            session_id INT,\n",
        "            item_in_session INT,\n",
        "            artist_name TEXT, \n",
        "            song_title TEXT, \n",
        "            song_length FLOAT, \n",
        "            PRIMARY KEY(session_id, item_in_session)\n",
        "        )\n",
        "    \"\"\")\n",
        "except Exception as error:\n",
        "    print(error)  "
      ]
    },
    {
      "cell_type": "code",
      "execution_count": null,
      "metadata": {
        "id": "vrCQNxk-56kz"
      },
      "outputs": [],
      "source": [
        "file = 'event_datafile_new.csv'\n",
        "\n",
        "with open(file, encoding = 'utf8') as f:\n",
        "    csvreader = csv.reader(f)\n",
        "    next(csvreader) # skip header\n",
        "    for line in csvreader:\n",
        "        query = \"INSERT INTO songs ( session_id, item_in_session, artist_name, song_title, song_length)\"\n",
        "        query = query + \"VALUES (%s, %s, %s, %s, %s)\"\n",
        "        session.execute(query, (int(line[8]), int(line[3]), line[0], line[9], float(line[5])))"
      ]
    },
    {
      "cell_type": "code",
      "execution_count": null,
      "metadata": {
        "id": "6fSG12t656k0"
      },
      "outputs": [],
      "source": [
        "# Do a SELECT to verify that the data have been inserted into each table\n",
        "query = \"\"\"\n",
        "    SELECT artist_name, song_title, song_length FROM songs \n",
        "    WHERE session_id = 338 AND item_in_session = 4\n",
        "\"\"\"\n",
        "try:\n",
        "    songs_results = session.execute(query)\n",
        "except Exception as error:\n",
        "    print(error)"
      ]
    },
    {
      "cell_type": "code",
      "execution_count": null,
      "metadata": {
        "id": "gBoEVwiT56k0",
        "outputId": "30878842-3b92-4510-a8d6-32cc2073818a"
      },
      "outputs": [
        {
          "name": "stdout",
          "output_type": "stream",
          "text": [
            "  artist_name                       song_title  song_length\n",
            "0   Faithless  Music Matters (Mark Knight Dub)   495.307312\n"
          ]
        }
      ],
      "source": [
        "df = pd.DataFrame(songs_results._current_rows)\n",
        "print(df)"
      ]
    },
    {
      "cell_type": "code",
      "execution_count": null,
      "metadata": {
        "id": "LmVCo9yu56k1"
      },
      "outputs": [],
      "source": [
        "try:\n",
        "    session.execute(\"\"\"\n",
        "        CREATE TABLE IF NOT EXISTS users (\n",
        "            user_id INT,\n",
        "            session_id INT,\n",
        "            item_in_session INT,\n",
        "            artist_name TEXT,\n",
        "            song_title TEXT,\n",
        "            first_name TEXT,\n",
        "            last_name TEXT,\n",
        "            PRIMARY KEY ((user_id, session_id), item_in_session)\n",
        "        )\n",
        "    \"\"\")\n",
        "except Exception as error:\n",
        "    print(error)  "
      ]
    },
    {
      "cell_type": "code",
      "execution_count": null,
      "metadata": {
        "id": "uMya3xsl56k9"
      },
      "outputs": [],
      "source": [
        "file = 'event_datafile_new.csv'\n",
        "\n",
        "with open(file, encoding = 'utf8') as f:\n",
        "    csvreader = csv.reader(f)\n",
        "    next(csvreader) # skip header\n",
        "    for line in csvreader:\n",
        "        query = \"INSERT INTO users (user_id, session_id, item_in_session, artist_name, song_title, first_name, last_name)\"\n",
        "        query = query + \"VALUES (%s, %s, %s, %s, %s, %s, %s)\"\n",
        "        session.execute(query, (int(line[10]), int(line[8]), int(line[3]), line[0], line[9], line[1], line[4]))"
      ]
    },
    {
      "cell_type": "code",
      "execution_count": null,
      "metadata": {
        "id": "Ryk5htdI56k9"
      },
      "outputs": [],
      "source": [
        "query = \"\"\"\n",
        "    SELECT artist_name, song_title, first_name, last_name FROM users \n",
        "    WHERE user_id = 10 AND session_id = 182\n",
        "\"\"\"\n",
        "try:\n",
        "    users_results = session.execute(query)\n",
        "except Exception as error:\n",
        "    print(error)"
      ]
    },
    {
      "cell_type": "code",
      "execution_count": null,
      "metadata": {
        "id": "hqyWf8PM56k9",
        "outputId": "479febf9-0c7e-4b81-b6f3-722503a207ce"
      },
      "outputs": [
        {
          "name": "stdout",
          "output_type": "stream",
          "text": [
            "         artist_name                                         song_title  \\\n",
            "0   Down To The Bone                                 Keep On Keepin' On   \n",
            "1       Three Drives                                        Greece 2000   \n",
            "2  Sebastien Tellier                                          Kilometer   \n",
            "3      Lonnie Gordon  Catch You Baby (Steve Pitron & Max Sanna Radio...   \n",
            "\n",
            "  first_name last_name  \n",
            "0     Sylvie      Cruz  \n",
            "1     Sylvie      Cruz  \n",
            "2     Sylvie      Cruz  \n",
            "3     Sylvie      Cruz  \n"
          ]
        }
      ],
      "source": [
        "df = pd.DataFrame(users_results._current_rows)\n",
        "print(df)"
      ]
    },
    {
      "cell_type": "code",
      "execution_count": null,
      "metadata": {
        "id": "y_KEYOxE56k-"
      },
      "outputs": [],
      "source": [
        "# User composite key (song_title, user_id) to create unique primary key \n",
        "# and match the question for querying specific song by different users\n",
        "try:\n",
        "    session.execute(\"\"\"\n",
        "        CREATE TABLE IF NOT EXISTS song_users (\n",
        "            song_title TEXT,\n",
        "            user_id INT,\n",
        "            first_name TEXT,\n",
        "            last_name TEXT,\n",
        "            PRIMARY KEY (song_title, user_id)\n",
        "        )\n",
        "    \"\"\")\n",
        "except Exception as error:\n",
        "    print(error)  "
      ]
    },
    {
      "cell_type": "code",
      "execution_count": null,
      "metadata": {
        "id": "-ztPfTVP56k-"
      },
      "outputs": [],
      "source": [
        "file = 'event_datafile_new.csv'\n",
        "\n",
        "with open(file, encoding = 'utf8') as f:\n",
        "    csvreader = csv.reader(f)\n",
        "    next(csvreader) # skip header\n",
        "    for line in csvreader:\n",
        "        query = \"INSERT INTO song_users (song_title, user_id, first_name, last_name)\"\n",
        "        query = query + \"VALUES (%s, %s, %s, %s)\"\n",
        "        session.execute(query, (line[9], int(line[10]), line[1], line[4]))"
      ]
    },
    {
      "cell_type": "code",
      "execution_count": null,
      "metadata": {
        "id": "6mJE5Gcf56k-"
      },
      "outputs": [],
      "source": [
        "query = \"\"\"\n",
        "    SELECT first_name, last_name FROM song_users \n",
        "    WHERE song_title = 'All Hands Against His Own'\n",
        "\"\"\"\n",
        "try:\n",
        "    results = session.execute(query)\n",
        "except Exception as error:\n",
        "    print(error)"
      ]
    },
    {
      "cell_type": "code",
      "execution_count": null,
      "metadata": {
        "id": "934xhzTu56k_",
        "outputId": "a11d5484-137e-4d92-a480-3f25f4a36862"
      },
      "outputs": [
        {
          "name": "stdout",
          "output_type": "stream",
          "text": [
            "   first_name last_name\n",
            "0  Jacqueline     Lynch\n",
            "1       Tegan    Levine\n",
            "2        Sara   Johnson\n"
          ]
        }
      ],
      "source": [
        "df = pd.DataFrame(results._current_rows)\n",
        "print(df)"
      ]
    },
    {
      "cell_type": "markdown",
      "metadata": {
        "id": "GriyLVWD56k_"
      },
      "source": [
        "Drop the tables before closing out the sessions"
      ]
    },
    {
      "cell_type": "code",
      "execution_count": null,
      "metadata": {
        "id": "hsb12y1m56k_"
      },
      "outputs": [],
      "source": [
        "try:\n",
        "    session.execute(\"DROP TABLE IF EXISTS songs\")\n",
        "    session.execute(\"DROP TABLE IF EXISTS users\")\n",
        "    session.execute(\"DROP TABLE IF EXISTS users_songs\")\n",
        "except Exception as error:\n",
        "    print(error)  "
      ]
    },
    {
      "cell_type": "markdown",
      "metadata": {
        "id": "qsBKxP3U56k_"
      },
      "source": [
        "Close the session and cluster connection"
      ]
    },
    {
      "cell_type": "code",
      "execution_count": null,
      "metadata": {
        "id": "Y6Y2diV_56lA"
      },
      "outputs": [],
      "source": [
        "session.shutdown()\n",
        "cluster.shutdown()"
      ]
    }
  ],
  "metadata": {
    "kernelspec": {
      "display_name": "Python 3.9.7 ('env-spacy')",
      "language": "python",
      "name": "python3"
    },
    "language_info": {
      "codemirror_mode": {
        "name": "ipython",
        "version": 3
      },
      "file_extension": ".py",
      "mimetype": "text/x-python",
      "name": "python",
      "nbconvert_exporter": "python",
      "pygments_lexer": "ipython3",
      "version": "3.9.7"
    },
    "orig_nbformat": 4,
    "vscode": {
      "interpreter": {
        "hash": "343191058819caea96d5cde1bd3b1a75b4807623ce2cda0e1c8499e39ac847e3"
      }
    },
    "colab": {
      "name": "data_modeling_cassandra.ipynb",
      "provenance": []
    }
  },
  "nbformat": 4,
  "nbformat_minor": 0
}